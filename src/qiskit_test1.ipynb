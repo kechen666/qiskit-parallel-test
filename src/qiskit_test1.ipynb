{
 "cells": [
  {
   "cell_type": "code",
   "execution_count": null,
   "metadata": {},
   "outputs": [],
   "source": [
    "import numpy as np\n",
    "\n",
    "# 导入Qiskit相关库\n",
    "from qiskit import QuantumCircuit\n",
    "from qiskit import Aer, transpile\n",
    "from qiskit.tools.visualization import plot_histogram\n",
    "\n",
    "\n",
    "circ = QuantumCircuit(2)    # 创建两个量子比特量子电路\n",
    "circ.h(0)                   # 应用H门到0号逻辑量子比特\n",
    "circ.cx(0, 1)               # 应用CNOT门，其中0号逻辑量子比特为控制比特，1号逻辑量子比特为受控比特\n",
    "circ.measure_all()          # 对全部量子比特添加测量操作\n",
    "\n",
    "# 打印电路\n",
    "print(circ)\n",
    "\n",
    "# 根据模拟器类型，对电路进行转译（可理解为编译电路）\n",
    "simulator = Aer.get_backend('aer_simulator_statevector')\n",
    "circ = transpile(circ, simulator)\n",
    "\n",
    "# 模拟器运行\n",
    "result = simulator.run(circ).result()\n",
    "# 获取结果计数情况\n",
    "counts = result.get_counts(circ)\n",
    "# 将其画为直方图形式\n",
    "plot_histogram(counts, title='Bell-State counts')"
   ]
  }
 ],
 "metadata": {
  "language_info": {
   "name": "python"
  },
  "orig_nbformat": 4
 },
 "nbformat": 4,
 "nbformat_minor": 2
}
